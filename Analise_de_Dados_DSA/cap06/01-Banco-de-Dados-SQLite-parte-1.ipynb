{
 "cells": [
  {
   "cell_type": "markdown",
   "metadata": {
    "collapsed": true,
    "pycharm": {
     "name": "#%% md\n"
    }
   },
   "source": [
    "# Banco de dados no SQLite - parte 1\n",
    "### Acessando Banco de Dados"
   ]
  },
  {
   "cell_type": "code",
   "execution_count": 1,
   "outputs": [],
   "source": [
    "#Remove o banco se ele já existir\n",
    "import os\n",
    "os.remove(\"arquivos/escola.db\") if os.path.exists(\"arquivos/escola.db\") else None"
   ],
   "metadata": {
    "collapsed": false,
    "pycharm": {
     "name": "#%%\n"
    }
   }
  },
  {
   "cell_type": "code",
   "source": [
    "#Importando módulo de acesso\n",
    "import sqlite3\n",
    "\n",
    "#Cria uma conexão com o bd\n",
    "#Se ele não existe, ele é criado nesse momento\n",
    "con = sqlite3.connect(\"arquivos/escola.db\")"
   ],
   "metadata": {
    "collapsed": false,
    "pycharm": {
     "name": "#%%\n"
    }
   },
   "execution_count": 3,
   "outputs": []
  },
  {
   "cell_type": "code",
   "execution_count": 5,
   "outputs": [],
   "source": [
    "#Cria um cursor\n",
    "cur = con.cursor()"
   ],
   "metadata": {
    "collapsed": false,
    "pycharm": {
     "name": "#%%\n"
    }
   }
  },
  {
   "cell_type": "code",
   "execution_count": 6,
   "outputs": [],
   "source": [
    "#Criando uma intrução SQL e armazenando em uma variável\n",
    "sql_create = \"CREATE TABLE cursos (\" \\\n",
    "             \"id INTEGER PRIMARY KEY,\" \\\n",
    "             \"titulo VARCHAR(100),\" \\\n",
    "             \"categoria VARCHAR(100))\""
   ],
   "metadata": {
    "collapsed": false,
    "pycharm": {
     "name": "#%%\n"
    }
   }
  },
  {
   "cell_type": "code",
   "execution_count": 7,
   "outputs": [
    {
     "data": {
      "text/plain": "<sqlite3.Cursor at 0x1968746fdc0>"
     },
     "execution_count": 7,
     "metadata": {},
     "output_type": "execute_result"
    }
   ],
   "source": [
    "#Executando a instrução através da variável\n",
    "cur.execute(sql_create)"
   ],
   "metadata": {
    "collapsed": false,
    "pycharm": {
     "name": "#%%\n"
    }
   }
  },
  {
   "cell_type": "code",
   "execution_count": 8,
   "outputs": [],
   "source": [
    "#Criando sentença para adicionar registros\n",
    "sql_insert = \"INSERT INTO cursos VALUES (?, ?, ?)\"\n",
    "#Dados a serem inseridos\n",
    "dados = [\n",
    "    (1000, \"Ciência de Dados\", \"Data Science\"),\n",
    "    (1001, \"Big Data Fundamentos\", \"Big Data\"),\n",
    "    (1002, \"Python Fundamentos\", \"Análise de Dados\")\n",
    "]\n",
    "\n",
    "#Inserindo através de um for\n",
    "for dado in dados:\n",
    "    cur.execute(sql_insert, dado)"
   ],
   "metadata": {
    "collapsed": false,
    "pycharm": {
     "name": "#%%\n"
    }
   }
  },
  {
   "cell_type": "code",
   "execution_count": 13,
   "outputs": [],
   "source": [
    "#Gravando a transação\n",
    "con.commit()"
   ],
   "metadata": {
    "collapsed": false,
    "pycharm": {
     "name": "#%%\n"
    }
   }
  },
  {
   "cell_type": "code",
   "execution_count": 14,
   "outputs": [],
   "source": [
    "#Criando chamada da tabela completa\n",
    "sql_select = \"SELECT * FROM cursos\"\n",
    "#Seleciona todos os registros e armazena em uma variável\n",
    "cur.execute(sql_select)\n",
    "selecao = cur.fetchall()"
   ],
   "metadata": {
    "collapsed": false,
    "pycharm": {
     "name": "#%%\n"
    }
   }
  },
  {
   "cell_type": "code",
   "execution_count": 15,
   "outputs": [
    {
     "name": "stdout",
     "output_type": "stream",
     "text": [
      "Curso ID: 1000 \n",
      " Título: Ciência de Dados \n",
      " Categoria: Data Science \n",
      "\n",
      "\n",
      "Curso ID: 1001 \n",
      " Título: Big Data Fundamentos \n",
      " Categoria: Big Data \n",
      "\n",
      "\n",
      "Curso ID: 1002 \n",
      " Título: Python Fundamentos \n",
      " Categoria: Análise de Dados \n",
      "\n",
      "\n",
      "Curso ID: 1003 \n",
      " Título: Gestão de Dados com MongoDB \n",
      " Categoria: Big Data \n",
      "\n",
      "\n",
      "Curso ID: 1004 \n",
      " Título: R Fundamentos \n",
      " Categoria: Análise de Dados \n",
      "\n",
      "\n"
     ]
    }
   ],
   "source": [
    "for linha in selecao:\n",
    "    print(\"Curso ID: %d \\n Título: %s \\n Categoria: %s \\n\\n\" % linha)"
   ],
   "metadata": {
    "collapsed": false,
    "pycharm": {
     "name": "#%%\n"
    }
   }
  },
  {
   "cell_type": "code",
   "execution_count": 12,
   "outputs": [],
   "source": [
    "#Gerando outros registros\n",
    "dados = [\n",
    "    (1003, \"Gestão de Dados com MongoDB\", \"Big Data\"),\n",
    "    (1004, \"R Fundamentos\", \"Análise de Dados\")\n",
    "]\n",
    "#Inserindo os registros\n",
    "for dado in dados:\n",
    "    cur.execute(sql_insert, dado)"
   ],
   "metadata": {
    "collapsed": false,
    "pycharm": {
     "name": "#%%\n"
    }
   }
  },
  {
   "cell_type": "code",
   "execution_count": 16,
   "outputs": [
    {
     "name": "stdout",
     "output_type": "stream",
     "text": [
      "Curso ID: 1000 \n",
      " Título: Ciência de Dados \n",
      " Categoria: Data Science \n",
      "\n",
      "\n",
      "Curso ID: 1001 \n",
      " Título: Big Data Fundamentos \n",
      " Categoria: Big Data \n",
      "\n",
      "\n",
      "Curso ID: 1002 \n",
      " Título: Python Fundamentos \n",
      " Categoria: Análise de Dados \n",
      "\n",
      "\n",
      "Curso ID: 1003 \n",
      " Título: Gestão de Dados com MongoDB \n",
      " Categoria: Big Data \n",
      "\n",
      "\n",
      "Curso ID: 1004 \n",
      " Título: R Fundamentos \n",
      " Categoria: Análise de Dados \n",
      "\n",
      "\n"
     ]
    }
   ],
   "source": [
    "#Seleciona todos os registros e armazena em uma variável\n",
    "cur.execute(sql_select)\n",
    "selecao = cur.fetchall()\n",
    "for linha in selecao:\n",
    "    print(\"Curso ID: %d \\n Título: %s \\n Categoria: %s \\n\\n\" % linha)"
   ],
   "metadata": {
    "collapsed": false,
    "pycharm": {
     "name": "#%%\n"
    }
   }
  },
  {
   "cell_type": "code",
   "execution_count": 17,
   "outputs": [],
   "source": [
    "#Encerra a conexão\n",
    "con.close()"
   ],
   "metadata": {
    "collapsed": false,
    "pycharm": {
     "name": "#%%\n"
    }
   }
  },
  {
   "cell_type": "code",
   "execution_count": null,
   "outputs": [],
   "source": [],
   "metadata": {
    "collapsed": false,
    "pycharm": {
     "name": "#%%\n"
    }
   }
  }
 ],
 "metadata": {
  "kernelspec": {
   "display_name": "Python 3",
   "language": "python",
   "name": "python3"
  },
  "language_info": {
   "codemirror_mode": {
    "name": "ipython",
    "version": 2
   },
   "file_extension": ".py",
   "mimetype": "text/x-python",
   "name": "python",
   "nbconvert_exporter": "python",
   "pygments_lexer": "ipython2",
   "version": "2.7.6"
  }
 },
 "nbformat": 4,
 "nbformat_minor": 0
}