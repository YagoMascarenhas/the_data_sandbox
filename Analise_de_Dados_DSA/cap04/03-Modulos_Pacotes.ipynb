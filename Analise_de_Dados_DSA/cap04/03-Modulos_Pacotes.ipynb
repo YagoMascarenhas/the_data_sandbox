{
 "cells": [
  {
   "cell_type": "markdown",
   "metadata": {
    "collapsed": true,
    "pycharm": {
     "name": "#%% md\n"
    }
   },
   "source": [
    "# Módulos e Pacotes\n",
    "### Datetime\n",
    "Manipulação de datas em Python"
   ]
  },
  {
   "cell_type": "code",
   "execution_count": 1,
   "outputs": [
    {
     "data": {
      "text/plain": "datetime.datetime(2022, 4, 6, 18, 0, 20, 600000)"
     },
     "execution_count": 1,
     "metadata": {},
     "output_type": "execute_result"
    }
   ],
   "source": [
    "import datetime\n",
    "agora = datetime.datetime.now()\n",
    "agora"
   ],
   "metadata": {
    "collapsed": false,
    "pycharm": {
     "name": "#%%\n"
    }
   }
  },
  {
   "cell_type": "code",
   "execution_count": 2,
   "outputs": [
    {
     "name": "stdout",
     "output_type": "stream",
     "text": [
      "07:43:28\n"
     ]
    }
   ],
   "source": [
    "t = datetime.time(7, 43, 28)\n",
    "print(t)"
   ],
   "metadata": {
    "collapsed": false,
    "pycharm": {
     "name": "#%%\n"
    }
   }
  },
  {
   "cell_type": "code",
   "execution_count": 3,
   "outputs": [
    {
     "name": "stdout",
     "output_type": "stream",
     "text": [
      "2022-04-06\n",
      "ctime:  Wed Apr  6 00:00:00 2022\n",
      "Ano:  2022\n",
      "Mês:  4\n",
      "Dia:  6\n"
     ]
    }
   ],
   "source": [
    "hoje = datetime.date.today()\n",
    "print(hoje)\n",
    "print(\"ctime: \", hoje.ctime())\n",
    "print(\"Ano: \", hoje.year)\n",
    "print(\"Mês: \", hoje.month)\n",
    "print(\"Dia: \", hoje.day)"
   ],
   "metadata": {
    "collapsed": false,
    "pycharm": {
     "name": "#%%\n"
    }
   }
  },
  {
   "cell_type": "markdown",
   "source": [],
   "metadata": {
    "collapsed": false,
    "pycharm": {
     "name": "#%% md\n"
    }
   }
  }
 ],
 "metadata": {
  "kernelspec": {
   "display_name": "Python 3",
   "language": "python",
   "name": "python3"
  },
  "language_info": {
   "codemirror_mode": {
    "name": "ipython",
    "version": 2
   },
   "file_extension": ".py",
   "mimetype": "text/x-python",
   "name": "python",
   "nbconvert_exporter": "python",
   "pygments_lexer": "ipython2",
   "version": "2.7.6"
  }
 },
 "nbformat": 4,
 "nbformat_minor": 0
}