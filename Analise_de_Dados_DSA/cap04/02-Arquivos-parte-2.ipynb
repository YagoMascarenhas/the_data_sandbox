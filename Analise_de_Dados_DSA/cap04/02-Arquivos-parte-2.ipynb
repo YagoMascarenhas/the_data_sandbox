{
 "cells": [
  {
   "cell_type": "markdown",
   "metadata": {
    "collapsed": true,
    "pycharm": {
     "name": "#%% md\n"
    }
   },
   "source": [
    "# Arquivos - parte 2\n",
    "### Manipulando arquivos TXT"
   ]
  },
  {
   "cell_type": "code",
   "source": [
    "texto = \"Cientista de Dados é a profissão que mais tem crescido em todo mundo. \\n\"\n",
    "texto = texto + \"Esses profissionais precisam se especializar em Programação, Estatística e Machine Learning. \\n\"\n",
    "texto += \"E claro, em Big Data.\"\n",
    "print(texto)"
   ],
   "metadata": {
    "collapsed": false,
    "pycharm": {
     "name": "#%%\n"
    }
   },
   "execution_count": 1,
   "outputs": [
    {
     "name": "stdout",
     "output_type": "stream",
     "text": [
      "Cientista de Dados é a profissão que mais tem crescido em todo mundo. \n",
      "Esses profissionais precisam se especializar em Programação, Estatística e Machine Learning. \n",
      "E claro, em Big Data.\n"
     ]
    }
   ]
  },
  {
   "cell_type": "code",
   "execution_count": 2,
   "outputs": [],
   "source": [
    "#Importando o módulo OS\n",
    "import os\n",
    "#Criando arquivo\n",
    "arquivo = open(os.path.join(\"arquivos/cientista.txt\"), 'w')"
   ],
   "metadata": {
    "collapsed": false,
    "pycharm": {
     "name": "#%%\n"
    }
   }
  },
  {
   "cell_type": "code",
   "execution_count": 3,
   "outputs": [],
   "source": [
    "#Gravando os dados no arquivo\n",
    "for palavra in texto.split(): #Usando split sem parametro, ele separa por espaços\n",
    "    arquivo.write(palavra + ' ')"
   ],
   "metadata": {
    "collapsed": false,
    "pycharm": {
     "name": "#%%\n"
    }
   }
  },
  {
   "cell_type": "code",
   "execution_count": 4,
   "outputs": [],
   "source": [
    "#Fechando o arquivo\n",
    "arquivo.close()"
   ],
   "metadata": {
    "collapsed": false,
    "pycharm": {
     "name": "#%%\n"
    }
   }
  },
  {
   "cell_type": "code",
   "execution_count": 5,
   "outputs": [
    {
     "name": "stdout",
     "output_type": "stream",
     "text": [
      "Cientista de Dados é a profissão que mais tem crescido em todo mundo. Esses profissionais precisam se especializar em Programação, Estatística e Machine Learning. E claro, em Big Data. \n"
     ]
    }
   ],
   "source": [
    "#Lendo o arquivo\n",
    "arquivo = open(os.path.join(\"arquivos/cientista.txt\"), 'r')\n",
    "conteudo = arquivo.read()\n",
    "arquivo.close()\n",
    "\n",
    "print(conteudo)"
   ],
   "metadata": {
    "collapsed": false,
    "pycharm": {
     "name": "#%%\n"
    }
   }
  },
  {
   "cell_type": "markdown",
   "source": [
    "### Usando a expressão *with*\n",
    "O método close() é executado automaticamente"
   ],
   "metadata": {
    "collapsed": false,
    "pycharm": {
     "name": "#%% md\n"
    }
   }
  },
  {
   "cell_type": "code",
   "source": [
    "with open(\"arquivos/cientista.txt\", 'r') as arquivo:\n",
    "    conteudo = arquivo.read()\n",
    "print(len(conteudo))"
   ],
   "metadata": {
    "collapsed": false,
    "pycharm": {
     "name": "#%%\n"
    }
   },
   "execution_count": 6,
   "outputs": [
    {
     "name": "stdout",
     "output_type": "stream",
     "text": [
      "185\n"
     ]
    }
   ]
  },
  {
   "cell_type": "code",
   "execution_count": 7,
   "outputs": [
    {
     "name": "stdout",
     "output_type": "stream",
     "text": [
      "Cientista de Dados é a profissão que mais tem crescido em todo mundo. Esses profissionais precisam se especializar em Programação, Estatística e Machine Learning. E claro, em Big Data. \n"
     ]
    }
   ],
   "source": [
    "print(conteudo)"
   ],
   "metadata": {
    "collapsed": false,
    "pycharm": {
     "name": "#%%\n"
    }
   }
  },
  {
   "cell_type": "markdown",
   "source": [
    "### Manipulando arquivos CSV"
   ],
   "metadata": {
    "collapsed": false,
    "pycharm": {
     "name": "#%% md\n"
    }
   }
  },
  {
   "cell_type": "code",
   "execution_count": 8,
   "outputs": [],
   "source": [
    "#Importando o módulo csv\n",
    "import csv\n",
    "\n",
    "#Escrevendo linha por linha no arquivo\n",
    "with open(\"arquivos/numeros.csv\", 'w') as arquivo:\n",
    "    writer = csv.writer(arquivo)\n",
    "    writer.writerow((\"primeira\", \"segunda\", \"terceira\"))\n",
    "    writer.writerow((55,93,76))\n",
    "    writer.writerow((62,14,86))"
   ],
   "metadata": {
    "collapsed": false,
    "pycharm": {
     "name": "#%%\n"
    }
   }
  },
  {
   "cell_type": "code",
   "execution_count": 10,
   "outputs": [
    {
     "name": "stdout",
     "output_type": "stream",
     "text": [
      "Número de colunas:  3\n",
      "['primeira', 'segunda', 'terceira']\n",
      "Número de colunas:  3\n",
      "['55', '93', '76']\n",
      "Número de colunas:  3\n",
      "['62', '14', '86']\n",
      "Número de colunas:  0\n",
      "[]\n"
     ]
    }
   ],
   "source": [
    "#Lendo o arquivo csv\n",
    "with open(\"arquivos/numeros.csv\", 'r') as arquivo:\n",
    "    leitor = csv.reader(arquivo)\n",
    "    for x in leitor:\n",
    "        print(\"Número de colunas: \", len(x))\n",
    "        print(x)"
   ],
   "metadata": {
    "collapsed": false,
    "pycharm": {
     "name": "#%%\n"
    }
   }
  },
  {
   "cell_type": "code",
   "execution_count": 11,
   "outputs": [
    {
     "name": "stdout",
     "output_type": "stream",
     "text": [
      "[['primeira', 'segunda', 'terceira'], ['55', '93', '76'], ['62', '14', '86']]\n"
     ]
    }
   ],
   "source": [
    "#Gerando uma lista com dados do arquivo csv\n",
    "with open(\"arquivos/numeros.csv\",'r') as arquivo:\n",
    "    leitor = csv.reader(arquivo)\n",
    "    dados = list(leitor)\n",
    "\n",
    "print(dados)"
   ],
   "metadata": {
    "collapsed": false,
    "pycharm": {
     "name": "#%%\n"
    }
   }
  },
  {
   "cell_type": "markdown",
   "source": [
    "### Manipulando arquivos JSON"
   ],
   "metadata": {
    "collapsed": false,
    "pycharm": {
     "name": "#%% md\n"
    }
   }
  },
  {
   "cell_type": "code",
   "execution_count": 15,
   "outputs": [
    {
     "name": "stdout",
     "output_type": "stream",
     "text": [
      "nome: Yago\n",
      "pais: Brasil\n",
      "estado: Rio de Janeiro\n",
      "curso: Ciencia da Computacoo\n"
     ]
    }
   ],
   "source": [
    "#Criando um dicionário para testar nosso arquivo\n",
    "dicio = {\n",
    "    \"nome\": \"Yago\",\n",
    "    \"pais\": \"Brasil\",\n",
    "    \"estado\": \"Rio de Janeiro\",\n",
    "    \"curso\": \"Ciencia da Computacoo\"\n",
    "}\n",
    "for k, v in dicio.items():\n",
    "    print(k + \": \" + v)"
   ],
   "metadata": {
    "collapsed": false,
    "pycharm": {
     "name": "#%%\n"
    }
   }
  },
  {
   "cell_type": "code",
   "execution_count": 16,
   "outputs": [
    {
     "data": {
      "text/plain": "'{\"nome\": \"Yago\", \"pais\": \"Brasil\", \"estado\": \"Rio de Janeiro\", \"curso\": \"Ciencia da Computacoo\"}'"
     },
     "execution_count": 16,
     "metadata": {},
     "output_type": "execute_result"
    }
   ],
   "source": [
    "#Importando o módulo json\n",
    "import json\n",
    "\n",
    "#Converte o dicionário para um objeto json\n",
    "json.dumps(dicio)"
   ],
   "metadata": {
    "collapsed": false,
    "pycharm": {
     "name": "#%%\n"
    }
   }
  },
  {
   "cell_type": "code",
   "execution_count": 19,
   "outputs": [
    {
     "name": "stdout",
     "output_type": "stream",
     "text": [
      "{'nome': 'Yago', 'pais': 'Brasil', 'estado': 'Rio de Janeiro', 'curso': 'Ciencia da Computacoo'}\n",
      "Yago\n"
     ]
    }
   ],
   "source": [
    "#Criando um arquivo JSON\n",
    "with open(\"arquivos/dados.json\", 'w') as arquivo:\n",
    "    arquivo.write(json.dumps(dicio))\n",
    "\n",
    "#Leitura de arquivos JSON\n",
    "with open(\"arquivos/dados.json\", 'r') as arquivo:\n",
    "    texto = arquivo.read()\n",
    "    dados = json.loads(texto)\n",
    "\n",
    "print(dados)\n",
    "print(dados[\"nome\"])"
   ],
   "metadata": {
    "collapsed": false,
    "pycharm": {
     "name": "#%%\n"
    }
   }
  },
  {
   "cell_type": "code",
   "execution_count": 22,
   "outputs": [],
   "source": [
    "#Imprimindo um JSON da internet\n",
    "from urllib.request import urlopen\n",
    "response = urlopen(\"http://vimeo.com/api/v2/video/57733101.json\").read().decode(\"utf-8\")\n",
    "dados = json.loads(response)[0]"
   ],
   "metadata": {
    "collapsed": false,
    "pycharm": {
     "name": "#%%\n"
    }
   }
  },
  {
   "cell_type": "code",
   "execution_count": 23,
   "outputs": [
    {
     "name": "stdout",
     "output_type": "stream",
     "text": [
      "Titulo:  The Good Man trailer\n",
      "URL:  https://vimeo.com/57733101\n",
      "Duração:  143\n",
      "Número de visualizações:  6381\n"
     ]
    }
   ],
   "source": [
    "print(\"Titulo: \", dados[\"title\"])\n",
    "print(\"URL: \", dados[\"url\"])\n",
    "print(\"Duração: \", dados[\"duration\"])\n",
    "print(\"Número de visualizações: \", dados[\"stats_number_of_plays\"])"
   ],
   "metadata": {
    "collapsed": false,
    "pycharm": {
     "name": "#%%\n"
    }
   }
  },
  {
   "cell_type": "code",
   "execution_count": null,
   "outputs": [],
   "source": [],
   "metadata": {
    "collapsed": false,
    "pycharm": {
     "name": "#%%\n"
    }
   }
  }
 ],
 "metadata": {
  "kernelspec": {
   "display_name": "Python 3",
   "language": "python",
   "name": "python3"
  },
  "language_info": {
   "codemirror_mode": {
    "name": "ipython",
    "version": 2
   },
   "file_extension": ".py",
   "mimetype": "text/x-python",
   "name": "python",
   "nbconvert_exporter": "python",
   "pygments_lexer": "ipython2",
   "version": "2.7.6"
  }
 },
 "nbformat": 4,
 "nbformat_minor": 0
}