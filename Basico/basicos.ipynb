{
 "cells": [
  {
   "cell_type": "code",
   "execution_count": 1,
   "metadata": {},
   "outputs": [],
   "source": [
    "#Declarando funções em Python\n",
    "def parImpar(num):\n",
    "    return \"ímpar\" if num % 2 == 1 else \"par\""
   ]
  },
  {
   "cell_type": "code",
   "execution_count": 2,
   "metadata": {},
   "outputs": [
    {
     "name": "stdout",
     "output_type": "stream",
     "text": [
      "ímpar\n"
     ]
    }
   ],
   "source": [
    "num = input(\"Digite um número: \")\n",
    "print(parImpar(int(num)))"
   ]
  },
  {
   "cell_type": "code",
   "execution_count": 3,
   "metadata": {},
   "outputs": [
    {
     "name": "stdout",
     "output_type": "stream",
     "text": [
      "['Mercurio', 'Venus', 'Terra', 'Marte', 'Jupiter', 'Saturno', 'Urano', 'Netuno']\n",
      "Mercurio Netuno\n",
      "['Mercurio', 'Venus', 'Terra']\n",
      "['Mercurio', 'Venus', 'Terra', 'Marte', 'Jupiter']\n",
      "['Marte', 'Jupiter', 'Saturno', 'Urano', 'Netuno']\n",
      "Saturno\n",
      "['Barsoom', 'Jupiter', 'Mercurio', 'Netuno', 'Saturno', 'Terra', 'Urano', 'Venus'] 8\n",
      "8\n",
      "False\n"
     ]
    }
   ],
   "source": [
    "#Manipulando listas\n",
    "\n",
    "planetas = [\"Mercurio\", \"Venus\", \"Terra\", \"Marte\", \"Jupiter\", \"Saturno\", \"Urano\", \"Netuno\"]\n",
    "print(planetas)\n",
    "print(planetas[0], planetas[-1])        #Retorna o primeiro [0] e o último [-1] item da lista\n",
    "print(planetas[0:3])        #Retorna os três primeiros itens (até índice 2)\n",
    "print(planetas[:5])     #Retorna os cinco primeiros itens (até índice 4)\n",
    "print(planetas[3:])     #Retorna todos a partir (e incluindo) o índice 3\n",
    "print(planetas[-3])     #Retorna os três últimos itens\n",
    "planetas[3] = \"Barsoom\"     #Alterando um item\n",
    "print(sorted(planetas), len(planetas))      #Imprime a lista em ordem alfabética e diz o tamanho\n",
    "planetas.append(\"Plutao\")       #Adiciona um elemento ao fim da lista\n",
    "print(planetas.index(\"Plutao\"))     #Imprime o índice do elemento indicado\n",
    "planetas.pop()       #Remove o último item da lista\n",
    "print(\"Plutao\" in planetas)     #Verifica se o item se encontra na lista\n",
    "\n",
    "#Tuplas\n",
    "#Funcionam como listas, porém não podem ser modificadas e são criadas usando ( ) no lugar de [ ]"
   ]
  },
  {
   "cell_type": "code",
   "execution_count": 4,
   "metadata": {},
   "outputs": [
    {
     "name": "stdout",
     "output_type": "stream",
     "text": [
      "Mercurio Venus Terra Barsoom Jupiter Saturno Urano Netuno "
     ]
    }
   ],
   "source": [
    "#Estruturas de Repetição\n",
    "#For\n",
    "for planeta in planetas:\n",
    "    print(planeta, end=\" \")"
   ]
  },
  {
   "cell_type": "code",
   "execution_count": 5,
   "metadata": {},
   "outputs": [
    {
     "name": "stdout",
     "output_type": "stream",
     "text": [
      "0 1 2 "
     ]
    }
   ],
   "source": [
    "for i in range(3):      #Repete a ação três vezes \n",
    "    print(i, end=\" \")   #De 0 até 2"
   ]
  },
  {
   "cell_type": "code",
   "execution_count": 6,
   "metadata": {},
   "outputs": [
    {
     "name": "stdout",
     "output_type": "stream",
     "text": [
      "0 1 2 \n"
     ]
    }
   ],
   "source": [
    "#While\n",
    "i = 0\n",
    "while i < 3:\n",
    "    print(i, end=\" \")   #Mesmo código, mas usando o While\n",
    "    i += 1\n",
    "print(\"\")"
   ]
  },
  {
   "cell_type": "code",
   "execution_count": 7,
   "metadata": {},
   "outputs": [
    {
     "name": "stdout",
     "output_type": "stream",
     "text": [
      "[0, 1, 4, 9, 16, 25, 36, 49, 64, 81]\n"
     ]
    }
   ],
   "source": [
    "quadrados = [n**2 for n in range(10)]\n",
    "print(quadrados)"
   ]
  },
  {
   "cell_type": "code",
   "execution_count": 7,
   "metadata": {},
   "outputs": [],
   "source": []
  }
 ],
 "metadata": {
  "kernelspec": {
   "display_name": "Python 3",
   "language": "python",
   "name": "python3"
  },
  "language_info": {
   "codemirror_mode": {
    "name": "ipython",
    "version": 3
   },
   "file_extension": ".py",
   "mimetype": "text/x-python",
   "name": "python",
   "nbconvert_exporter": "python",
   "pygments_lexer": "ipython3",
   "version": "3.7.6"
  }
 },
 "nbformat": 4,
 "nbformat_minor": 4
}